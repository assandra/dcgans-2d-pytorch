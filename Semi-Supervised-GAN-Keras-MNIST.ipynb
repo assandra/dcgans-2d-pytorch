{
 "cells": [
  {
   "cell_type": "markdown",
   "metadata": {},
   "source": [
    "# Semi-Supervised GAN \n",
    "## Keras Implementations Using MNIST Handwritten Numbers Dataset\n",
    "\n",
    "### Introducing Semi-Supervised GAN\n",
    "Semi-supervised learning is one of the most promising areas of practical applications of GANs. Unlike unsupervised learning, in which we need a label for every example in our dataset, and unsupervised learning, in which no labels are used, semi-supervised learning has a class label for only a small subset of training dataset. By internalising hidden structures in the data, semi-supervised learning strives to generalize from the small subnet of labeled data points to effectively classify,  new, previously unseen examples. Importantly, for semi-supervised learning to work, the labled and unlabeled data must come from the same underlying distribution.\n",
    "\n",
    "Semi-supervised learning aims to address the problem of learning from ever-smaller quantities of labeled data.  In a 2016 study a semi-supervised GAN achieved overall accuracy of labelling unlabeled dataset remarkably close to the fully supervised benchmark, while using fewer than 3% of the labels for training.\n",
    "\n",
    "### Theory\n",
    "Semi-supervised GAN (SGAN) is a Generative Adversarial Network whose Discriminator is a multiclass classifier. Instead of distinguishing between only two classes (real and fake). it learns to distinguish between N + 1 classes, where N is the number of classes in the training dataset, with one added for the fake examples produced by the Generator. \n",
    "\n",
    "In this implementation the output of the SGAN Discriminator will be represented as a vector of 10 class probabilities (that sum up to 1.0) plus another probability that represents whether the image is real or fake.\n",
    "\n",
    "### Architecture\n",
    "\n",
    "In this implementation, the Generator takes in a random noise vector z and produces a fake example x*. The Discriminator receives three kinds of data inputs: fake data from the Generator, real unlabeled examples of x, and real labeled examples (x,y), where y is the label corresponding to the given example. The Discriminator then outputs a classification; its goal is to distinguish fake examples from the real ones and for the real examples, identitfy the correct class. \n",
    "\n",
    "![SGAN-Architecture](data:image/png;base64,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)\n",
    "\n",
    "### Training Process\n",
    "In a regular GAN, we train the Disciminator by computing the loss for D(x) and D(x*) and backpropagating the total loss to update the Disciminator's trainable parameters to minimise the loss. The Generator is trained by backpropagating the Discriminator's loss for D(x*), seeking to maximize it, so that the fake examples it synthesizes are misclassified as real.\n",
    "\n",
    "To train the SGAN, in addition to D(x) and D(x*), we also have to compute the loss for the supervised training examples: D((x,y)). These losses correpond to to the dual learning objective that the SGAN Discriminator has to grapple with: distinguishing real examples from the fake ones while also learning to classify real examples to their correct classes. These dual objectives correspond to two kinds of losses: the supervised loss and the unsupervised loss.\n",
    "\n",
    "### Training Objective\n",
    "Most GAN variants goal is to produce realistic-looking data samples; hence, the Generator network has been of primary interest. The main purpose of the Discriminator network has been to help the Generator improve the quality of images it produces. At the end of the training, we often disregard the Discriminator and use only the fully trained Generator to create realistic-looking synthetic data.\n",
    "\n",
    "In contract, in a SGAN, we care primarily about the Discriminator. The goal of the training process is to make this network into a semi-supervised classifier whose accuracy is as close as possible to a fully supervised classifier. The Generator's goal is to aid this process by serving as a source of additional information (the fake data it produces) that helps the Generator learn the relevant patterns in the data, enhancing its classification accuracy. At the end of training, the Generator gets discarded, and we use the trained Discriminator as a classifier.\n",
    "\n",
    "### Implementations Notes\n",
    "TODO"
   ]
  },
  {
   "cell_type": "code",
   "execution_count": 1,
   "metadata": {},
   "outputs": [],
   "source": [
    "%matplotlib inline\n",
    "\n",
    "# Imports\n",
    "import matplotlib.pyplot as plt\n",
    "import numpy as np\n",
    "\n",
    "from keras import backend as K\n",
    "\n",
    "from keras.datasets import mnist\n",
    "from keras.layers import (Activation, BatchNormalization, Concatenate, Dense,\n",
    "                          Dropout, Flatten, Input, Lambda, Reshape)\n",
    "from keras.layers.advanced_activations import LeakyReLU\n",
    "from keras.layers.convolutional import Conv2D, Conv2DTranspose\n",
    "from keras.models import Model, Sequential\n",
    "from keras.optimizers import Adam\n",
    "from keras.utils import to_categorical"
   ]
  },
  {
   "cell_type": "code",
   "execution_count": 2,
   "metadata": {},
   "outputs": [],
   "source": [
    "# Model input dimensions\n",
    "img_rows = 28\n",
    "img_cols = 28\n",
    "channels = 1\n",
    "\n",
    "# Input image dimensions\n",
    "img_shape = (img_rows, img_cols, channels)\n",
    "\n",
    "# Size of the noise vector, used as input to the Generator\n",
    "z_dim = 100\n",
    "\n",
    "# Number of classes in the dataset i.e. label types\n",
    "num_classes = 10"
   ]
  },
  {
   "cell_type": "markdown",
   "metadata": {},
   "source": [
    "### Dataset class\n",
    "Although the MNIST training dataset has 50,000 labeled training images, we will use only a small fraction of them (specified by the `num_labeled` parameter) for training pretend that all the remaining ones are unlabeled. WWe accomplish this by sampling only from the first `num_labeled` images when generating batches of labeled data and from the remaining (50,000 - `num_labeled`) images when generating batches of unlabeled examples."
   ]
  },
  {
   "cell_type": "code",
   "execution_count": 3,
   "metadata": {},
   "outputs": [],
   "source": [
    "# Dataset class\n",
    "class Dataset:\n",
    "    def __init__(self, num_labeled):\n",
    "\n",
    "        # Number labeled examples to use for training\n",
    "        self.num_labeled = num_labeled\n",
    "\n",
    "        # Load the MNIST dataset\n",
    "        (self.x_train, self.y_train), (self.x_test,\n",
    "                                       self.y_test) = mnist.load_data()\n",
    "\n",
    "        def preprocess_imgs(x):\n",
    "            # Rescale [0, 255] grayscale pixel values to [-1, 1]\n",
    "            x = (x.astype(np.float32) - 127.5) / 127.5\n",
    "            # Expand image dimensions to width x height x channels\n",
    "            x = np.expand_dims(x, axis=3)\n",
    "            return x\n",
    "\n",
    "        def preprocess_labels(y):\n",
    "            return y.reshape(-1, 1)\n",
    "\n",
    "        # Preprocess training data\n",
    "        self.x_train = preprocess_imgs(self.x_train)\n",
    "        self.y_train = preprocess_labels(self.y_train)\n",
    "\n",
    "        # Preprocess testing data\n",
    "        self.x_test = preprocess_imgs(self.x_test)\n",
    "        self.y_test = preprocess_labels(self.y_test)\n",
    "\n",
    "    def batch_labeled(self, batch_size):\n",
    "        # Get a random batch of labeled images and their labels\n",
    "        idx = np.random.randint(0, self.num_labeled, batch_size)\n",
    "        imgs = self.x_train[idx]\n",
    "        labels = self.y_train[idx]\n",
    "        return imgs, labels\n",
    "\n",
    "    def batch_unlabeled(self, batch_size):\n",
    "        # Get a random batch of unlabeled images\n",
    "        idx = np.random.randint(self.num_labeled, self.x_train.shape[0],\n",
    "                                batch_size)\n",
    "        imgs = self.x_train[idx]\n",
    "        return imgs\n",
    "\n",
    "    def training_set(self):\n",
    "        x_train = self.x_train[range(self.num_labeled)]\n",
    "        y_train = self.y_train[range(self.num_labeled)]\n",
    "        return x_train, y_train\n",
    "\n",
    "    def test_set(self):\n",
    "        return self.x_test, self.y_test"
   ]
  },
  {
   "cell_type": "code",
   "execution_count": 4,
   "metadata": {},
   "outputs": [],
   "source": [
    "# Number of labeled examples to use (rest will be used as unlabeled)\n",
    "num_labeled = 100\n",
    "\n",
    "dataset = Dataset(num_labeled)\n"
   ]
  },
  {
   "cell_type": "code",
   "execution_count": 5,
   "metadata": {},
   "outputs": [],
   "source": [
    "# Generator - same as DCGAN\n",
    "\n",
    "def build_generator(z_dim):\n",
    "\n",
    "    model = Sequential()\n",
    "\n",
    "    # Reshape input into 7x7x256 tensor via a fully connected layer\n",
    "    model.add(Dense(256 * 7 * 7, input_dim=z_dim))\n",
    "    model.add(Reshape((7, 7, 256)))\n",
    "\n",
    "    # Transposed convolution layer, from 7x7x256 into 14x14x128 tensor\n",
    "    model.add(Conv2DTranspose(128, kernel_size=3, strides=2, padding='same'))\n",
    "\n",
    "    # Batch normalization\n",
    "    model.add(BatchNormalization())\n",
    "\n",
    "    # Leaky ReLU activation\n",
    "    model.add(LeakyReLU(alpha=0.01))\n",
    "\n",
    "    # Transposed convolution layer, from 14x14x128 to 14x14x64 tensor\n",
    "    model.add(Conv2DTranspose(64, kernel_size=3, strides=1, padding='same'))\n",
    "\n",
    "    # Batch normalization\n",
    "    model.add(BatchNormalization())\n",
    "\n",
    "    # Leaky ReLU activation\n",
    "    model.add(LeakyReLU(alpha=0.01))\n",
    "\n",
    "    # Transposed convolution layer, from 14x14x64 to 28x28x1 tensor\n",
    "    model.add(Conv2DTranspose(1, kernel_size=3, strides=2, padding='same'))\n",
    "\n",
    "    # Output layer with tanh activation\n",
    "    model.add(Activation('tanh'))\n",
    "\n",
    "    return model"
   ]
  },
  {
   "cell_type": "markdown",
   "metadata": {},
   "source": [
    "### The Discriminator\n",
    "TODO add implementation notes"
   ]
  },
  {
   "cell_type": "code",
   "execution_count": 6,
   "metadata": {},
   "outputs": [],
   "source": [
    "def build_discriminator_net(img_shape):\n",
    "\n",
    "    model = Sequential()\n",
    "\n",
    "    # Convolutional layer, from 28x28x1 into 14x14x32 tensor\n",
    "    model.add(\n",
    "        Conv2D(32,\n",
    "               kernel_size=3,\n",
    "               strides=2,\n",
    "               input_shape=img_shape,\n",
    "               padding='same'))\n",
    "\n",
    "    # Leaky ReLU activation\n",
    "    model.add(LeakyReLU(alpha=0.01))\n",
    "\n",
    "    # Convolutional layer, from 14x14x32 into 7x7x64 tensor\n",
    "    model.add(\n",
    "        Conv2D(64,\n",
    "               kernel_size=3,\n",
    "               strides=2,\n",
    "               input_shape=img_shape,\n",
    "               padding='same'))\n",
    "\n",
    "    # Batch normalization\n",
    "    model.add(BatchNormalization())\n",
    "\n",
    "    # Leaky ReLU activation\n",
    "    model.add(LeakyReLU(alpha=0.01))\n",
    "\n",
    "    # Convolutional layer, from 7x7x64 tensor into 3x3x128 tensor\n",
    "    model.add(\n",
    "        Conv2D(128,\n",
    "               kernel_size=3,\n",
    "               strides=2,\n",
    "               input_shape=img_shape,\n",
    "               padding='same'))\n",
    "\n",
    "    # Batch normalization\n",
    "    model.add(BatchNormalization())\n",
    "\n",
    "    # Leaky ReLU activation\n",
    "    model.add(LeakyReLU(alpha=0.01))\n",
    "\n",
    "    # Droupout\n",
    "    model.add(Dropout(0.5))\n",
    "\n",
    "    # Flatten the tensor\n",
    "    model.add(Flatten())\n",
    "\n",
    "    # Fully connected layer with num_classes neurons\n",
    "    model.add(Dense(num_classes))\n",
    "\n",
    "    return model"
   ]
  },
  {
   "cell_type": "code",
   "execution_count": 7,
   "metadata": {},
   "outputs": [],
   "source": [
    "def build_discriminator_supervised(discriminator_net):\n",
    "\n",
    "    model = Sequential()\n",
    "\n",
    "    model.add(discriminator_net)\n",
    "\n",
    "    # Softmax activation, giving predicted probability distribution over the real classes\n",
    "    model.add(Activation('softmax'))\n",
    "\n",
    "    return model"
   ]
  },
  {
   "cell_type": "code",
   "execution_count": 8,
   "metadata": {},
   "outputs": [],
   "source": [
    "def build_discriminator_unsupervised(discriminator_net):\n",
    "\n",
    "    model = Sequential()\n",
    "\n",
    "    model.add(discriminator_net)\n",
    "\n",
    "    def predict(x):\n",
    "        # Transform distribution over real classes into a binary real-vs-fake probability\n",
    "        prediction = 1.0 - (1.0 /\n",
    "                            (K.sum(K.exp(x), axis=-1, keepdims=True) + 1.0))\n",
    "        return prediction\n",
    "\n",
    "    # 'Real-vs-fake' output neuron defined above\n",
    "    model.add(Lambda(predict))\n",
    "\n",
    "    return model"
   ]
  },
  {
   "cell_type": "code",
   "execution_count": 9,
   "metadata": {},
   "outputs": [],
   "source": [
    "def build_gan(generator, discriminator):\n",
    "\n",
    "    model = Sequential()\n",
    "\n",
    "    # Combined Generator -> Discriminator model\n",
    "    model.add(generator)\n",
    "    model.add(discriminator)\n",
    "\n",
    "    return model"
   ]
  },
  {
   "cell_type": "code",
   "execution_count": 10,
   "metadata": {},
   "outputs": [],
   "source": [
    "# Core Discriminator network:\n",
    "# These layers are shared during supervised and unsupervised training\n",
    "discriminator_net = build_discriminator_net(img_shape)\n",
    "\n",
    "# Build & compile the Discriminator for supervised training\n",
    "discriminator_supervised = build_discriminator_supervised(discriminator_net)\n",
    "discriminator_supervised.compile(loss='categorical_crossentropy',\n",
    "                                 metrics=['accuracy'],\n",
    "                                 optimizer=Adam())\n",
    "\n",
    "# Build & compile the Discriminator for unsupervised training\n",
    "discriminator_unsupervised = build_discriminator_unsupervised(discriminator_net)\n",
    "discriminator_unsupervised.compile(loss='binary_crossentropy',\n",
    "                                   optimizer=Adam())"
   ]
  },
  {
   "cell_type": "code",
   "execution_count": 11,
   "metadata": {},
   "outputs": [],
   "source": [
    "# Build the Generator\n",
    "generator = build_generator(z_dim)\n",
    "\n",
    "# Keep Discriminator’s parameters constant for Generator training\n",
    "discriminator_unsupervised.trainable = False\n",
    "\n",
    "# Build and compile GAN model with fixed Discriminator to train the Generator\n",
    "# Note that we are using the Discriminator version with unsupervised output\n",
    "gan = build_gan(generator, discriminator_unsupervised)\n",
    "gan.compile(loss='binary_crossentropy', optimizer=Adam())"
   ]
  },
  {
   "cell_type": "code",
   "execution_count": 12,
   "metadata": {},
   "outputs": [],
   "source": [
    "supervised_losses = []\n",
    "iteration_checkpoints = []\n",
    "\n",
    "\n",
    "def train(iterations, batch_size, sample_interval):\n",
    "\n",
    "    # Labels for real images: all ones\n",
    "    real = np.ones((batch_size, 1))\n",
    "\n",
    "    # Labels for fake images: all zeros\n",
    "    fake = np.zeros((batch_size, 1))\n",
    "\n",
    "    for iteration in range(iterations):\n",
    "\n",
    "        # -------------------------\n",
    "        #  Train the Discriminator\n",
    "        # -------------------------\n",
    "\n",
    "        # Get labeled examples\n",
    "        imgs, labels = dataset.batch_labeled(batch_size)\n",
    "\n",
    "        # One-hot encode labels\n",
    "        labels = to_categorical(labels, num_classes=num_classes)\n",
    "\n",
    "        # Get unlabeled examples\n",
    "        imgs_unlabeled = dataset.batch_unlabeled(batch_size)\n",
    "\n",
    "        # Generate a batch of fake images\n",
    "        z = np.random.normal(0, 1, (batch_size, z_dim))\n",
    "        gen_imgs = generator.predict(z)\n",
    "\n",
    "        # Train on real labeled examples\n",
    "        d_loss_supervised, accuracy = discriminator_supervised.train_on_batch(imgs, labels)\n",
    "\n",
    "        # Train on real unlabeled examples\n",
    "        d_loss_real = discriminator_unsupervised.train_on_batch(\n",
    "            imgs_unlabeled, real)\n",
    "\n",
    "        # Train on fake examples\n",
    "        d_loss_fake = discriminator_unsupervised.train_on_batch(gen_imgs, fake)\n",
    "\n",
    "        d_loss_unsupervised = 0.5 * np.add(d_loss_real, d_loss_fake)\n",
    "\n",
    "        # ---------------------\n",
    "        #  Train the Generator\n",
    "        # ---------------------\n",
    "\n",
    "        # Generate a batch of fake images\n",
    "        z = np.random.normal(0, 1, (batch_size, z_dim))\n",
    "        gen_imgs = generator.predict(z)\n",
    "\n",
    "        # Train Generator\n",
    "        g_loss = gan.train_on_batch(z, np.ones((batch_size, 1)))\n",
    "\n",
    "        if (iteration + 1) % sample_interval == 0:\n",
    "\n",
    "            # Save Discriminator supervised classification loss to be plotted after training\n",
    "            supervised_losses.append(d_loss_supervised)\n",
    "            iteration_checkpoints.append(iteration + 1)\n",
    "\n",
    "            # Output training progress\n",
    "            print(\n",
    "                \"%d [D loss supervised: %.4f, acc.: %.2f%%] [D loss unsupervised: %.4f] [G loss: %f]\"\n",
    "                % (iteration + 1, d_loss_supervised, 100 * accuracy,\n",
    "                   d_loss_unsupervised, g_loss))"
   ]
  },
  {
   "cell_type": "code",
   "execution_count": 20,
   "metadata": {},
   "outputs": [
    {
     "name": "stdout",
     "output_type": "stream",
     "text": [
      "800 [D loss supervised: 0.0001, acc.: 100.00%] [D loss unsupervised: 0.0000] [G loss: 0.004900]\n",
      "1600 [D loss supervised: 0.0000, acc.: 100.00%] [D loss unsupervised: 0.0000] [G loss: 0.000197]\n",
      "2400 [D loss supervised: 0.0000, acc.: 100.00%] [D loss unsupervised: 0.0000] [G loss: 0.000034]\n",
      "3200 [D loss supervised: 0.0000, acc.: 100.00%] [D loss unsupervised: 0.0000] [G loss: 0.000098]\n",
      "4000 [D loss supervised: 0.0000, acc.: 100.00%] [D loss unsupervised: 0.0000] [G loss: 0.000014]\n",
      "4800 [D loss supervised: 0.0000, acc.: 100.00%] [D loss unsupervised: 0.0000] [G loss: 0.000014]\n",
      "5600 [D loss supervised: 0.0000, acc.: 100.00%] [D loss unsupervised: 0.0000] [G loss: 0.000011]\n",
      "6400 [D loss supervised: 0.0000, acc.: 100.00%] [D loss unsupervised: 0.0000] [G loss: 0.000003]\n",
      "7200 [D loss supervised: 0.0000, acc.: 100.00%] [D loss unsupervised: 0.0000] [G loss: 0.000002]\n",
      "8000 [D loss supervised: 0.0000, acc.: 100.00%] [D loss unsupervised: 0.0000] [G loss: 0.000002]\n"
     ]
    }
   ],
   "source": [
    "# Set hyperparameters\n",
    "iterations = 8000\n",
    "batch_size = 32\n",
    "sample_interval = 800\n",
    "\n",
    "# Train the SGAN for the specified number of iterations\n",
    "train(iterations, batch_size, sample_interval)"
   ]
  },
  {
   "cell_type": "code",
   "execution_count": 21,
   "metadata": {},
   "outputs": [
    {
     "data": {
      "text/plain": [
       "<matplotlib.legend.Legend at 0x7f1030199520>"
      ]
     },
     "execution_count": 21,
     "metadata": {},
     "output_type": "execute_result"
    },
    {
     "data": {
      "image/png": "[encoded data removed]",
      "text/plain": [
       "<Figure size 1080x360 with 1 Axes>"
      ]
     },
     "metadata": {
      "needs_background": "light"
     },
     "output_type": "display_data"
    }
   ],
   "source": [
    "losses = np.array(supervised_losses)\n",
    "\n",
    "# Plot Discriminator supervised loss\n",
    "plt.figure(figsize=(15, 5))\n",
    "plt.plot(iteration_checkpoints, losses, label=\"Discriminator loss\")\n",
    "\n",
    "plt.xticks(iteration_checkpoints, rotation=90)\n",
    "\n",
    "plt.title(\"Discriminator – Supervised Loss\")\n",
    "plt.xlabel(\"Iteration\")\n",
    "plt.ylabel(\"Loss\")\n",
    "plt.legend()"
   ]
  },
  {
   "cell_type": "code",
   "execution_count": 19,
   "metadata": {},
   "outputs": [
    {
     "name": "stdout",
     "output_type": "stream",
     "text": [
      "4/4 [==============================] - 0s 7ms/step - loss: 7.6534e-05 - accuracy: 1.0000\n",
      "['loss', 'accuracy']\n",
      "Training Accuracy: 100.00%\n"
     ]
    }
   ],
   "source": [
    "x, y = dataset.training_set()\n",
    "y = to_categorical(y, num_classes=num_classes)\n",
    "\n",
    "\n",
    "\n",
    "# Compute classification accuracy on the training set\n",
    "_, accuracy = discriminator_supervised.evaluate(x, y)\n",
    "\n",
    "print(discriminator_supervised.metrics_names)\n",
    "print(\"Training Accuracy: %.2f%%\" % (100 * accuracy))"
   ]
  },
  {
   "cell_type": "code",
   "execution_count": 17,
   "metadata": {},
   "outputs": [
    {
     "name": "stdout",
     "output_type": "stream",
     "text": [
      "313/313 [==============================] - 2s 7ms/step - loss: 1.6456 - accuracy: 0.6667\n",
      "Test Accuracy: 66.67%\n"
     ]
    }
   ],
   "source": [
    "x, y = dataset.test_set()\n",
    "y = to_categorical(y, num_classes=num_classes)\n",
    "\n",
    "# Compute classification accuracy on the test set\n",
    "_, accuracy = discriminator_supervised.evaluate(x, y)\n",
    "print(\"Test Accuracy: %.2f%%\" % (100 * accuracy))"
   ]
  },
  {
   "cell_type": "code",
   "execution_count": null,
   "metadata": {},
   "outputs": [],
   "source": []
  }
 ],
 "metadata": {
  "kernelspec": {
   "display_name": "Python 3",
   "language": "python",
   "name": "python3"
  },
  "language_info": {
   "codemirror_mode": {
    "name": "ipython",
    "version": 3
   },
   "file_extension": ".py",
   "mimetype": "text/x-python",
   "name": "python",
   "nbconvert_exporter": "python",
   "pygments_lexer": "ipython3",
   "version": "3.8.5"
  }
 },
 "nbformat": 4,
 "nbformat_minor": 4
}
