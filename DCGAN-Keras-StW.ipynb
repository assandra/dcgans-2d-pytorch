{
 "cells": [
  {
   "cell_type": "code",
   "execution_count": null,
   "metadata": {},
   "outputs": [
    {
     "name": "stdout",
     "output_type": "stream",
     "text": [
      "Collecting package metadata (current_repodata.json): done\n",
      "Solving environment: failed with initial frozen solve. Retrying with flexible solve.\n",
      "Solving environment: failed with repodata from current_repodata.json, will retry with next repodata source.\n",
      "Collecting package metadata (repodata.json): done\n",
      "Solving environment: / "
     ]
    }
   ],
   "source": [
    "conda install -c anaconda tensorflow-gpu"
   ]
  },
  {
   "cell_type": "code",
   "execution_count": null,
   "metadata": {},
   "outputs": [],
   "source": [
    "conda install -c anaconda cudatoolkit"
   ]
  },
  {
   "cell_type": "code",
   "execution_count": null,
   "metadata": {},
   "outputs": [],
   "source": [
    "from tensorflow.python.client import device_lib\n",
    "print(device_lib.list_local_devices()"
   ]
  },
  {
   "cell_type": "code",
   "execution_count": null,
   "metadata": {},
   "outputs": [],
   "source": [
    "from keras import backend as K\n",
    "K.tensorflow_backend._get_available_gpus()"
   ]
  },
  {
   "cell_type": "code",
   "execution_count": 15,
   "metadata": {},
   "outputs": [],
   "source": [
    "# Import Libraries\n",
    "from numpy import expand_dims, zeros, ones, vstack, add\n",
    "from numpy.random import randn, randint, normal\n",
    "from matplotlib import pyplot\n",
    "from tensorflow.keras.preprocessing import image_dataset_from_directory\n",
    "from keras.optimizers import Adam\n",
    "from keras.models import Sequential\n",
    "from keras.layers import Input, Dense, Reshape, Flatten, Conv2D, Conv2DTranspose, LeakyReLU, Dropout, BatchNormalization, ReLU"
   ]
  },
  {
   "cell_type": "code",
   "execution_count": 16,
   "metadata": {},
   "outputs": [],
   "source": [
    "## 2D Scan The World busts dataset: \n",
    "dataset_name = \"scan-the-world-busts-images\"\n",
    "dataroot = \"/home/a/Projects/dggan-pytorch-2d-images/data/scan-the-world-busts-images/\"\n",
    "\n",
    "# Model input dimensions\n",
    "img_rows = 64\n",
    "img_cols = 64\n",
    "channels = 3\n",
    "\n",
    "# Input image dimensions\n",
    "img_shape = (img_rows, img_cols, channels)\n",
    "\n",
    "# Size of the noise vector, used as input to the Generator\n",
    "z_dim = 100\n",
    "\n",
    "# Number of data points used in each training loop\n",
    "batch_size = 128\n",
    "\n",
    "# Number of training epochs\n",
    "num_epochs = 150\n",
    "\n",
    "# Learning rate for training\n",
    "learning_rate = 0.0002\n",
    "\n",
    "# Hyperparameter for Adam optimizers\n",
    "beta_1 = 0.5"
   ]
  },
  {
   "cell_type": "code",
   "execution_count": 17,
   "metadata": {},
   "outputs": [
    {
     "name": "stdout",
     "output_type": "stream",
     "text": [
      "Found 1291 files belonging to 1 classes.\n"
     ]
    }
   ],
   "source": [
    "# Load dataset\n",
    "dataset = image_dataset_from_directory(\n",
    "    dataroot, label_mode=None, shuffle=True, seed=999, image_size=(img_rows, img_cols), batch_size=batch_size\n",
    ")\n",
    "dataset = dataset.map(lambda x: x / 255.0)"
   ]
  },
  {
   "cell_type": "code",
   "execution_count": 18,
   "metadata": {},
   "outputs": [
    {
     "data": {
      "image/png": "[encoded data removed]",
      "text/plain": [
       "<Figure size 432x288 with 1 Axes>"
      ]
     },
     "metadata": {
      "needs_background": "light"
     },
     "output_type": "display_data"
    }
   ],
   "source": [
    "# Visualise dataset\n",
    "for x in dataset:\n",
    "    pyplot.axis(\"off\")\n",
    "    pyplot.imshow((x.numpy() * 255).astype(\"int32\")[0])\n",
    "    break"
   ]
  },
  {
   "cell_type": "code",
   "execution_count": 29,
   "metadata": {},
   "outputs": [],
   "source": [
    "# Discriminator model\n",
    "def define_discriminator(in_shape=img_shape):\n",
    "    model = Sequential([\n",
    "          Input(shape=(64, 64, 3)),\n",
    "          Conv2D(64, kernel_size=4, strides=2, padding=\"same\"),\n",
    "          LeakyReLU(alpha=0.2),\n",
    "          Conv2D(128, kernel_size=4, strides=2, padding=\"same\"),\n",
    "          BatchNormalization(),\n",
    "          LeakyReLU(alpha=0.2),\n",
    "          Conv2D(128, kernel_size=4, strides=2, padding=\"same\"),\n",
    "          BatchNormalization(),\n",
    "          LeakyReLU(alpha=0.2),\n",
    "          Flatten(),\n",
    "          Dropout(0.2),\n",
    "          Dense(1, activation=\"sigmoid\"),\n",
    "      ],\n",
    "      name=\"discriminator\",\n",
    "  )\n",
    "    return model"
   ]
  },
  {
   "cell_type": "code",
   "execution_count": 30,
   "metadata": {},
   "outputs": [],
   "source": [
    "# # Discriminator summary\n",
    "# discriminator = define_discriminator((64,64,3))\n",
    "\n",
    "# discriminator.summary()"
   ]
  },
  {
   "cell_type": "code",
   "execution_count": 31,
   "metadata": {},
   "outputs": [],
   "source": [
    "# Generator model\n",
    "def define_generator(z_dim):\n",
    "    model = Sequential([\n",
    "         Input(shape=(z_dim,)),\n",
    "         Dense(8 * 8 * 128),\n",
    "         Reshape((8, 8, 128)),\n",
    "         Conv2DTranspose(128, kernel_size=4, strides=2, padding=\"same\"),\n",
    "         BatchNormalization(),\n",
    "         LeakyReLU(alpha=0.2),\n",
    "         Conv2DTranspose(256, kernel_size=4, strides=2, padding=\"same\"),\n",
    "         BatchNormalization(),\n",
    "         LeakyReLU(alpha=0.2),\n",
    "         Conv2DTranspose(512, kernel_size=4, strides=2, padding=\"same\"),\n",
    "         BatchNormalization(),\n",
    "         LeakyReLU(alpha=0.2),\n",
    "         Conv2D(3, kernel_size=5, padding=\"same\", activation=\"sigmoid\"),\n",
    "    ],\n",
    "    name=\"generator\",\n",
    ")\n",
    "    return model"
   ]
  },
  {
   "cell_type": "code",
   "execution_count": 22,
   "metadata": {},
   "outputs": [],
   "source": [
    "# Generator summary\n",
    "# generator = define_generator(z_dim)\n",
    "\n",
    "# generator.summary()"
   ]
  },
  {
   "cell_type": "code",
   "execution_count": 32,
   "metadata": {},
   "outputs": [],
   "source": [
    "# GAN model\n",
    "def define_gan(generator, discriminator):\n",
    "    discriminator.trainable = False\n",
    "    model = Sequential()\n",
    "    model.add(generator)\n",
    "    model.add(discriminator)\n",
    "\n",
    "    return model"
   ]
  },
  {
   "cell_type": "code",
   "execution_count": 36,
   "metadata": {},
   "outputs": [
    {
     "name": "stdout",
     "output_type": "stream",
     "text": [
      "WARNING:tensorflow:Please add `keras.layers.InputLayer` instead of `keras.Input` to Sequential model. `keras.Input` is intended to be used by Functional model.\n",
      "Model: \"discriminator\"\n",
      "_________________________________________________________________\n",
      "Layer (type)                 Output Shape              Param #   \n",
      "=================================================================\n",
      "conv2d_12 (Conv2D)           (None, 32, 32, 64)        3136      \n",
      "_________________________________________________________________\n",
      "leaky_re_lu_18 (LeakyReLU)   (None, 32, 32, 64)        0         \n",
      "_________________________________________________________________\n",
      "conv2d_13 (Conv2D)           (None, 16, 16, 128)       131200    \n",
      "_________________________________________________________________\n",
      "batch_normalization_5 (Batch (None, 16, 16, 128)       512       \n",
      "_________________________________________________________________\n",
      "leaky_re_lu_19 (LeakyReLU)   (None, 16, 16, 128)       0         \n",
      "_________________________________________________________________\n",
      "conv2d_14 (Conv2D)           (None, 8, 8, 128)         262272    \n",
      "_________________________________________________________________\n",
      "batch_normalization_6 (Batch (None, 8, 8, 128)         512       \n",
      "_________________________________________________________________\n",
      "leaky_re_lu_20 (LeakyReLU)   (None, 8, 8, 128)         0         \n",
      "_________________________________________________________________\n",
      "flatten_3 (Flatten)          (None, 8192)              0         \n",
      "_________________________________________________________________\n",
      "dropout_3 (Dropout)          (None, 8192)              0         \n",
      "_________________________________________________________________\n",
      "dense_6 (Dense)              (None, 1)                 8193      \n",
      "=================================================================\n",
      "Total params: 405,825\n",
      "Trainable params: 405,313\n",
      "Non-trainable params: 512\n",
      "_________________________________________________________________\n",
      "WARNING:tensorflow:Please add `keras.layers.InputLayer` instead of `keras.Input` to Sequential model. `keras.Input` is intended to be used by Functional model.\n",
      "Model: \"generator\"\n",
      "_________________________________________________________________\n",
      "Layer (type)                 Output Shape              Param #   \n",
      "=================================================================\n",
      "dense_7 (Dense)              (None, 8192)              827392    \n",
      "_________________________________________________________________\n",
      "reshape_3 (Reshape)          (None, 8, 8, 128)         0         \n",
      "_________________________________________________________________\n",
      "conv2d_transpose_9 (Conv2DTr (None, 16, 16, 128)       262272    \n",
      "_________________________________________________________________\n",
      "batch_normalization_7 (Batch (None, 16, 16, 128)       512       \n",
      "_________________________________________________________________\n",
      "leaky_re_lu_21 (LeakyReLU)   (None, 16, 16, 128)       0         \n",
      "_________________________________________________________________\n",
      "conv2d_transpose_10 (Conv2DT (None, 32, 32, 256)       524544    \n",
      "_________________________________________________________________\n",
      "batch_normalization_8 (Batch (None, 32, 32, 256)       1024      \n",
      "_________________________________________________________________\n",
      "leaky_re_lu_22 (LeakyReLU)   (None, 32, 32, 256)       0         \n",
      "_________________________________________________________________\n",
      "conv2d_transpose_11 (Conv2DT (None, 64, 64, 512)       2097664   \n",
      "_________________________________________________________________\n",
      "batch_normalization_9 (Batch (None, 64, 64, 512)       2048      \n",
      "_________________________________________________________________\n",
      "leaky_re_lu_23 (LeakyReLU)   (None, 64, 64, 512)       0         \n",
      "_________________________________________________________________\n",
      "conv2d_15 (Conv2D)           (None, 64, 64, 3)         38403     \n",
      "=================================================================\n",
      "Total params: 3,753,859\n",
      "Trainable params: 3,752,067\n",
      "Non-trainable params: 1,792\n",
      "_________________________________________________________________\n"
     ]
    }
   ],
   "source": [
    "# Build and compile the Discriminator\n",
    "discriminator = define_discriminator(img_shape)\n",
    "discriminator.compile(loss='binary_crossentropy',\n",
    "                      optimizer=Adam(learning_rate=learning_rate, beta_1=beta_1),\n",
    "                      metrics=['accuracy'])\n",
    "discriminator.summary()\n",
    "\n",
    "# Build the Generator\n",
    "generator = define_generator(z_dim)\n",
    "generator.summary()\n",
    "\n",
    "# Keep Discriminator’s parameters constant for Generator training\n",
    "discriminator.trainable = False\n",
    "\n",
    "# Build and compile GAN model with fixed Discriminator to train the Generator\n",
    "gan = define_gan(generator, discriminator)\n",
    "gan.compile(loss='binary_crossentropy', optimizer=Adam(learning_rate=learning_rate, beta_1=beta_1))\n",
    "\n",
    "# GAN summary\n",
    "# gan.summary()"
   ]
  },
  {
   "cell_type": "code",
   "execution_count": 37,
   "metadata": {},
   "outputs": [],
   "source": [
    "def sample_images(generator, image_grid_rows=4, image_grid_columns=4):\n",
    "\n",
    "    # Generate images from random noise\n",
    "    z = np.random.normal(0, 1, (image_grid_rows * image_grid_columns, z_dim))\n",
    "    gen_imgs = generator.predict(z)\n",
    "\n",
    "    # Rescale image pixel values to [0, 1]\n",
    "    gen_imgs = 0.5 * gen_imgs + 0.5\n",
    "\n",
    "    # Set image grid\n",
    "    fig, axs = plt.subplots(image_grid_rows,\n",
    "                            image_grid_columns,\n",
    "                            figsize=(4, 4),\n",
    "                            sharey=True,\n",
    "                            sharex=True)\n",
    "\n",
    "    cnt = 0\n",
    "    for i in range(image_grid_rows):\n",
    "        for j in range(image_grid_columns):\n",
    "            # Output a grid of images\n",
    "            axs[i, j].imshow(gen_imgs[cnt, :, :, 0])\n",
    "            axs[i, j].axis('off')\n",
    "            cnt += 1"
   ]
  },
  {
   "cell_type": "code",
   "execution_count": null,
   "metadata": {},
   "outputs": [],
   "source": [
    "# Training loop \n",
    "\n",
    "# List of training values\n",
    "img_list = []\n",
    "g_losses = []\n",
    "d_losses = []\n",
    "d_accuracies = []\n",
    "\n",
    "# Labels for images\n",
    "y_real = ones((batch_size, 1))\n",
    "y_fake = zeros((batch_size, 1))\n",
    "\n",
    "iterations = 0\n",
    "\n",
    "for epoch in range(num_epochs):\n",
    "    for i, imgs in enumerate(dataset):\n",
    "\n",
    "        # -------------------------\n",
    "        #  Train the Discriminator\n",
    "        # -------------------------\n",
    "\n",
    "        # Generate a batch of fake images\n",
    "        z = normal(0, 1, (batch_size, z_dim))\n",
    "        gen_imgs = generator.predict(z)\n",
    "\n",
    "        # Train the discriminaor on the generated images\n",
    "        d_loss_real = discriminator.train_on_batch(imgs, y_real)\n",
    "        d_loss_fake = discriminator.train_on_batch(gen_imgs, y_fake)\n",
    "\n",
    "        d_loss, d_accuracy = 0.5 * add(d_loss_real, d_loss_fake)\n",
    "\n",
    "        # ---------------------\n",
    "        #  Train the Generator\n",
    "        # ---------------------\n",
    "\n",
    "        # Generate a batch of fake images\n",
    "        z = normal(0, 1, (batch_size, z_dim))\n",
    "        gen_imgs = generator.predict(z)\n",
    "\n",
    "\n",
    "        # Train the generator via the gan model - note inverted labels\n",
    "        g_loss = gan.train_on_batch(z, y_real)\n",
    "\n",
    "        # Output training stats\n",
    "        if i % 50 == 0:\n",
    "            print('[%d/%d][%d/%d]\\tLoss_D: %.4f\\tLoss_D_fake: %.4f\\tLoss_D_real: %.4f\\tLoss_G: %.4f\\tD_acc: %.4f'\n",
    "                  % (epoch, num_of_epochs, i, len(dataset), d_loss, d_loss_fake, d_loss_real, g_loss, d_accuracy))\n",
    "\n",
    "        # Save losses for plotting later\n",
    "        g_losses.append(g_loss)\n",
    "        d_losses.append(d_loss)\n",
    "        d_fake_losses.append(d_loss_fake)\n",
    "        d_real_losses.append(d_loss_real)\n",
    "        d_accuracies.append(d_accuracy)\n",
    "\n",
    "        # Check how the generator is doing by predicting G's output\n",
    "        if (iterations % 500 == 0) or ((epoch == num_epochs-1) and (i == len(dataloader)-1)):\n",
    "            sample_images(generator)\n",
    "\n",
    "        iterations += 1"
   ]
  },
  {
   "cell_type": "code",
   "execution_count": null,
   "metadata": {},
   "outputs": [],
   "source": [
    "plt.figure(figsize=(20,10))\n",
    "plt.title(\"Generator and Discriminator Loss During Training\")\n",
    "plt.plot(G_losses,label=\"G\")\n",
    "plt.plot(D_losses,label=\"D\")\n",
    "plt.plot(D_fake_losses,label=\"D_fake\")\n",
    "plt.plot(D_real_losses,label=\"D_real\")\n",
    "plt.xlabel(\"iterations\")\n",
    "plt.ylabel(\"Loss\")\n",
    "plt.legend()\n",
    "plt.savefig(os.path.join(path,\"generator_discriminator_losses.png\"))"
   ]
  },
  {
   "cell_type": "code",
   "execution_count": null,
   "metadata": {},
   "outputs": [],
   "source": [
    "plt.figure(figsize=(20,10))\n",
    "plt.title(\"Discriminator Accuracy During Training\")\n",
    "plt.plot(D_x_acc,label=\"D_acc\")\n",
    "plt.xlabel(\"iterations\")\n",
    "plt.ylabel(\"Accuracy\")\n",
    "plt.legend()\n",
    "plt.savefig(os.path.join(path,\"discriminator_accuracy.png\"))"
   ]
  }
 ],
 "metadata": {
  "kernelspec": {
   "display_name": "Python 3 (ipykernel)",
   "language": "python",
   "name": "python3"
  },
  "language_info": {
   "codemirror_mode": {
    "name": "ipython",
    "version": 3
   },
   "file_extension": ".py",
   "mimetype": "text/x-python",
   "name": "python",
   "nbconvert_exporter": "python",
   "pygments_lexer": "ipython3",
   "version": "3.9.5"
  }
 },
 "nbformat": 4,
 "nbformat_minor": 4
}
